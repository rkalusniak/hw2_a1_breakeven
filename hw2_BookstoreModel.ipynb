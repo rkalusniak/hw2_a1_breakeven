{
 "cells": [
  {
   "cell_type": "markdown",
   "id": "b8d9b5ff-aa82-4d7d-938c-53aa04e093b3",
   "metadata": {},
   "source": [
    "# Homework 2: Doing Excel work with Python"
   ]
  },
  {
   "cell_type": "code",
   "execution_count": 1,
   "id": "9878ed1d-77ef-4229-97bd-9989cd33009b",
   "metadata": {},
   "outputs": [],
   "source": [
    "import numpy as np\n",
    "import pandas as pd\n",
    "import matplotlib.pyplot as plt\n",
    "import matplotlib.ticker as mtick\n",
    "from scipy import stats"
   ]
  },
  {
   "cell_type": "code",
   "execution_count": 2,
   "id": "dace19dc-1f99-4dc9-9553-aa74db68b302",
   "metadata": {},
   "outputs": [],
   "source": [
    "from whatif import Model\n",
    "from whatif import  get_sim_results_df"
   ]
  },
  {
   "cell_type": "code",
   "execution_count": 3,
   "id": "77bb8e1a-a868-497a-99fc-869703942835",
   "metadata": {},
   "outputs": [],
   "source": [
    "%load_ext autoreload\n",
    "%autoreload 2"
   ]
  },
  {
   "cell_type": "code",
   "execution_count": 4,
   "id": "548e57c7-4b50-484c-b05c-ac27a5e0c1f1",
   "metadata": {},
   "outputs": [],
   "source": [
    "%matplotlib inline"
   ]
  },
  {
   "cell_type": "markdown",
   "id": "9e928db9-e858-42f7-878e-2e363fc18b45",
   "metadata": {},
   "source": [
    "# Analysis 1 - Basic Break Even Analysis"
   ]
  },
  {
   "cell_type": "markdown",
   "id": "9f952475-9373-4711-abbd-8f2c429dfdfc",
   "metadata": {},
   "source": [
    "## A. Base Model"
   ]
  },
  {
   "cell_type": "code",
   "execution_count": 117,
   "id": "81141a59-f502-444a-83de-71e9dcd64936",
   "metadata": {},
   "outputs": [],
   "source": [
    "class SingleProductSPF(Model):\n",
    "    \"\"\"Base Model\n",
    "\n",
    "    This example of a single product demand model was provided in the assignment.\n",
    "    \n",
    "    * we have to place an order for a perishable product,\n",
    "    * there's a known variable cost for each one ordered,\n",
    "    * there is a set fixed cost that does not change with demand,\n",
    "    * demand is uncertain but we can model it with a quadratic function,\n",
    "    * we assume that the company can statify all demand,\n",
    "    * we need to select the optimal selling price given the inputs.\n",
    "\n",
    "    Attributes\n",
    "    ----------\n",
    "    fixed_cost: float or array-like of float, optional\n",
    "        Cost is the same no matter how many items sell (default 5000)\n",
    "    var_cost: float or array-like of float, optional\n",
    "        Cost for each item sold (default 100)\n",
    "    selling_price : float or array-like of float, optional\n",
    "        Selling price for each item (default 115)\n",
    "    There is a quadratic function in the format Ax**2 + Bx + C\n",
    "        spf_constant : float or array-like of float, optional\n",
    "            This is the constant, or C value, in the quadric equation above (default 4900)\n",
    "        spf_linear : float or array-like of float, optional\n",
    "            This is the coefficient of the linear value, or B value, in the quadric equation above (default -35)\n",
    "        spf_constant : float or array-like of float, optional\n",
    "            This is the coefficient of the quadratic value, or A value, in the quadric equation above (default 0.06)\n",
    "    \"\"\"\n",
    "    def __init__(self, fixed_cost=5000, var_cost=100, selling_price=115, spf_constant=4900, spf_linear=-35, spf_quadratic=0.06):\n",
    "        self.fixed_cost = fixed_cost\n",
    "        self.var_cost = var_cost\n",
    "        self.selling_price = selling_price\n",
    "        self.spf_constant = spf_constant\n",
    "        self.spf_linear = spf_linear\n",
    "        self.spf_quadratic = spf_quadratic\n",
    "    \n",
    "    def demand(self):\n",
    "        \"\"\"Compute total demand based on selling price\"\"\"\n",
    "        demand = (self.spf_quadratic * (self.selling_price ** 2)) + (self.spf_linear * self.selling_price) + self.spf_constant\n",
    "        return demand\n",
    "    \n",
    "    def total_var_cost(self):\n",
    "        \"\"\"Compute total variable costs assuming the company covers the entire demand\"\"\"\n",
    "        return self.demand() * self.var_cost\n",
    "    \n",
    "    def total_cost(self):\n",
    "        \"\"\"Compute the sum of total variable and fixed costs\"\"\"\n",
    "        return self.total_var_cost() + self.fixed_cost\n",
    "    \n",
    "    def sales_revenue(self):\n",
    "        \"\"\"Compute sales revenue assuming the company meets the entire demand\"\"\"\n",
    "        return self.demand() * self.selling_price\n",
    "    \n",
    "    def profit(self):\n",
    "        \"\"\"Compute profict as the difference between revenue and costs\"\"\"\n",
    "        return self.sales_revenue() - self.total_cost()"
   ]
  },
  {
   "cell_type": "code",
   "execution_count": 118,
   "id": "0e32184a-484c-4bc6-9382-33b0ff36b55c",
   "metadata": {},
   "outputs": [
    {
     "name": "stdout",
     "output_type": "stream",
     "text": [
      "The demand at a selling price of $115 is 1,668.50, producing a profit of $20,027.50\n"
     ]
    }
   ],
   "source": [
    "model1 = SingleProductSPF()\n",
    "print(f'The demand at a selling price of ${model1.selling_price} is {model1.demand():,.2f}, producing a profit of ${model1.profit():,.2f}')"
   ]
  },
  {
   "cell_type": "markdown",
   "id": "f21e1841-272f-42b6-a7ea-e0898fb453aa",
   "metadata": {},
   "source": [
    "Based on the testing values, I confirmed that the model is working correctly. I learned the important lesson that calculated objects require parenthesis after them, but input values do not."
   ]
  },
  {
   "cell_type": "markdown",
   "id": "88f4ea49-63c3-464b-b5d4-732b602f955f",
   "metadata": {},
   "source": [
    "## B. 1-Way Data Table"
   ]
  },
  {
   "cell_type": "code",
   "execution_count": 119,
   "id": "26afbd80-3b3c-4013-be93-fd35937539e9",
   "metadata": {},
   "outputs": [
    {
     "data": {
      "text/html": [
       "<div>\n",
       "<style scoped>\n",
       "    .dataframe tbody tr th:only-of-type {\n",
       "        vertical-align: middle;\n",
       "    }\n",
       "\n",
       "    .dataframe tbody tr th {\n",
       "        vertical-align: top;\n",
       "    }\n",
       "\n",
       "    .dataframe thead th {\n",
       "        text-align: right;\n",
       "    }\n",
       "</style>\n",
       "<table border=\"1\" class=\"dataframe\">\n",
       "  <thead>\n",
       "    <tr style=\"text-align: right;\">\n",
       "      <th></th>\n",
       "      <th>selling_price</th>\n",
       "      <th>demand</th>\n",
       "      <th>profit</th>\n",
       "    </tr>\n",
       "  </thead>\n",
       "  <tbody>\n",
       "    <tr>\n",
       "      <th>0</th>\n",
       "      <td>80</td>\n",
       "      <td>2484.0</td>\n",
       "      <td>-54680.0</td>\n",
       "    </tr>\n",
       "    <tr>\n",
       "      <th>1</th>\n",
       "      <td>90</td>\n",
       "      <td>2236.0</td>\n",
       "      <td>-27360.0</td>\n",
       "    </tr>\n",
       "    <tr>\n",
       "      <th>2</th>\n",
       "      <td>100</td>\n",
       "      <td>2000.0</td>\n",
       "      <td>-5000.0</td>\n",
       "    </tr>\n",
       "    <tr>\n",
       "      <th>3</th>\n",
       "      <td>110</td>\n",
       "      <td>1776.0</td>\n",
       "      <td>12760.0</td>\n",
       "    </tr>\n",
       "    <tr>\n",
       "      <th>4</th>\n",
       "      <td>120</td>\n",
       "      <td>1564.0</td>\n",
       "      <td>26280.0</td>\n",
       "    </tr>\n",
       "    <tr>\n",
       "      <th>5</th>\n",
       "      <td>130</td>\n",
       "      <td>1364.0</td>\n",
       "      <td>35920.0</td>\n",
       "    </tr>\n",
       "    <tr>\n",
       "      <th>6</th>\n",
       "      <td>140</td>\n",
       "      <td>1176.0</td>\n",
       "      <td>42040.0</td>\n",
       "    </tr>\n",
       "  </tbody>\n",
       "</table>\n",
       "</div>"
      ],
      "text/plain": [
       "   selling_price  demand   profit\n",
       "0             80  2484.0 -54680.0\n",
       "1             90  2236.0 -27360.0\n",
       "2            100  2000.0  -5000.0\n",
       "3            110  1776.0  12760.0\n",
       "4            120  1564.0  26280.0\n",
       "5            130  1364.0  35920.0\n",
       "6            140  1176.0  42040.0"
      ]
     },
     "execution_count": 119,
     "metadata": {},
     "output_type": "execute_result"
    }
   ],
   "source": [
    "#Create dictionary with array of inputs\n",
    "dt_param_ranges1 = {'selling_price': np.arange(80, 141, 10)}\n",
    "\n",
    "#Create list of outputs\n",
    "outputs1 = ['demand', 'profit']\n",
    "\n",
    "#Run the data table method and save the pandas dataframe\n",
    "m1_dt1_df = model1.data_table(dt_param_ranges1, outputs1)\n",
    "m1_dt1_df"
   ]
  },
  {
   "cell_type": "code",
   "execution_count": 120,
   "id": "7f2f0f17-a200-4632-b832-cd8e18caee0f",
   "metadata": {},
   "outputs": [
    {
     "data": {
      "image/png": "[encoded data removed]",
      "text/plain": [
       "<Figure size 640x480 with 1 Axes>"
      ]
     },
     "metadata": {},
     "output_type": "display_data"
    }
   ],
   "source": [
    "# Initialize plot\n",
    "plt.style.use('default')\n",
    "fig, ax = plt.subplots()\n",
    "\n",
    "# Create series variables\n",
    "selling_price = np.array(m1_dt1_df['selling_price'])\n",
    "profit = np.array(m1_dt1_df['profit'])\n",
    "\n",
    "# Plot series\n",
    "ax.plot(selling_price, profit, 'r-', label='Profit')\n",
    "\n",
    "# Style plot elements\n",
    "ax.set(title='Profit and Selling Price for the Basic Model', xlabel='Selling Price', ylabel='Profit')\n",
    "plt.hlines(0, 80, 140, linestyles='dotted')\n",
    "\n",
    "#Format axixes\n",
    "fmt = '${x:,.0f}'\n",
    "tick = mtick.StrMethodFormatter(fmt)\n",
    "ax.yaxis.set_major_formatter(tick)\n",
    "ax.xaxis.set_major_formatter(tick) \n",
    "\n",
    "# Show the plot\n",
    "plt.show()"
   ]
  },
  {
   "cell_type": "markdown",
   "id": "1d0ab302-b6b1-4889-99a3-7171e2cde3dd",
   "metadata": {},
   "source": [
    "Based on the data table, the trends appear to be moving in the correct direction. Demand decreases and profit increases and selling price increases. It appears that the break-even point for profit is between 100 and 105 dollars.\n",
    "\n",
    "Profit and selling price have a non-linear relationship. This makes sense becuase demand is non-linear. This cascased to make revenue non-linear as well. Profit is a combination of the the quadratic revenue function and the linear cost function."
   ]
  },
  {
   "cell_type": "markdown",
   "id": "9fd065e4-fd21-44cd-a0a4-0f933bc6520f",
   "metadata": {},
   "source": [
    "## C. Break Even"
   ]
  },
  {
   "cell_type": "code",
   "execution_count": 121,
   "id": "e66bd7a6-4f9e-4e5c-85b3-c9bd5b4bbb20",
   "metadata": {},
   "outputs": [
    {
     "name": "stdout",
     "output_type": "stream",
     "text": [
      "The basic model for profit breaks even at zero at a selling price of $102.58.\n"
     ]
    }
   ],
   "source": [
    "# Find the the selling price where profit = 0 between $80 and $140\n",
    "be_selling_price1 = model1.goal_seek('profit', 0, 'selling_price', 80, 140)\n",
    "\n",
    "# Print the restuls\n",
    "print(f'The basic model for profit breaks even at zero at a selling price of ${be_selling_price1:.2f}.')"
   ]
  },
  {
   "cell_type": "markdown",
   "id": "0f6c1ba3-bef0-4815-b81d-99100ffad06a",
   "metadata": {},
   "source": [
    "This method finds the break-even selling price between 80 and 140 dollars. Because the demand function is quadratic, I expect there is another break-even point outside this range. The graph above suggests the second break even-point is at a higher selling price."
   ]
  },
  {
   "cell_type": "markdown",
   "id": "29a4e5db-dd76-44a9-99fa-b19ff885f329",
   "metadata": {},
   "source": [
    "## D. 2-Way Data Table"
   ]
  },
  {
   "cell_type": "code",
   "execution_count": 126,
   "id": "1c71ed17-b4fb-4357-9319-a98476d95556",
   "metadata": {},
   "outputs": [],
   "source": [
    "#Create dictionary with array of inputs\n",
    "dt_param_ranges2 = {'selling_price': np.arange(80, 141, 10),\n",
    "                   'var_cost': np.arange(85, 111, 5)}\n",
    "\n",
    "#Create list of outputs\n",
    "outputs2 = ['profit', 'total_cost']\n",
    "\n",
    "#Run the data table method and save the pandas dataframe\n",
    "m1_dt2_df = model1.data_table(dt_param_ranges2, outputs2)"
   ]
  },
  {
   "cell_type": "code",
   "execution_count": 127,
   "id": "6c929487-6f99-44d0-93ab-79ec420fc051",
   "metadata": {},
   "outputs": [
    {
     "data": {
      "text/html": [
       "<div>\n",
       "<style scoped>\n",
       "    .dataframe tbody tr th:only-of-type {\n",
       "        vertical-align: middle;\n",
       "    }\n",
       "\n",
       "    .dataframe tbody tr th {\n",
       "        vertical-align: top;\n",
       "    }\n",
       "\n",
       "    .dataframe thead th {\n",
       "        text-align: right;\n",
       "    }\n",
       "</style>\n",
       "<table border=\"1\" class=\"dataframe\">\n",
       "  <thead>\n",
       "    <tr style=\"text-align: right;\">\n",
       "      <th></th>\n",
       "      <th>selling_price</th>\n",
       "      <th>var_cost</th>\n",
       "      <th>profit</th>\n",
       "      <th>total_cost</th>\n",
       "    </tr>\n",
       "  </thead>\n",
       "  <tbody>\n",
       "    <tr>\n",
       "      <th>0</th>\n",
       "      <td>80</td>\n",
       "      <td>85</td>\n",
       "      <td>-17420.0</td>\n",
       "      <td>216140.0</td>\n",
       "    </tr>\n",
       "    <tr>\n",
       "      <th>1</th>\n",
       "      <td>80</td>\n",
       "      <td>90</td>\n",
       "      <td>-29840.0</td>\n",
       "      <td>228560.0</td>\n",
       "    </tr>\n",
       "    <tr>\n",
       "      <th>2</th>\n",
       "      <td>80</td>\n",
       "      <td>95</td>\n",
       "      <td>-42260.0</td>\n",
       "      <td>240980.0</td>\n",
       "    </tr>\n",
       "    <tr>\n",
       "      <th>3</th>\n",
       "      <td>80</td>\n",
       "      <td>100</td>\n",
       "      <td>-54680.0</td>\n",
       "      <td>253400.0</td>\n",
       "    </tr>\n",
       "    <tr>\n",
       "      <th>4</th>\n",
       "      <td>80</td>\n",
       "      <td>105</td>\n",
       "      <td>-67100.0</td>\n",
       "      <td>265820.0</td>\n",
       "    </tr>\n",
       "  </tbody>\n",
       "</table>\n",
       "</div>"
      ],
      "text/plain": [
       "   selling_price  var_cost   profit  total_cost\n",
       "0             80        85 -17420.0    216140.0\n",
       "1             80        90 -29840.0    228560.0\n",
       "2             80        95 -42260.0    240980.0\n",
       "3             80       100 -54680.0    253400.0\n",
       "4             80       105 -67100.0    265820.0"
      ]
     },
     "execution_count": 127,
     "metadata": {},
     "output_type": "execute_result"
    }
   ],
   "source": [
    "#View top of data frame\n",
    "m1_dt2_df.head()"
   ]
  },
  {
   "cell_type": "code",
   "execution_count": 128,
   "id": "200ad8ce-53f2-4a64-9c76-c4eaa93a3593",
   "metadata": {},
   "outputs": [
    {
     "data": {
      "text/html": [
       "<div>\n",
       "<style scoped>\n",
       "    .dataframe tbody tr th:only-of-type {\n",
       "        vertical-align: middle;\n",
       "    }\n",
       "\n",
       "    .dataframe tbody tr th {\n",
       "        vertical-align: top;\n",
       "    }\n",
       "\n",
       "    .dataframe thead th {\n",
       "        text-align: right;\n",
       "    }\n",
       "</style>\n",
       "<table border=\"1\" class=\"dataframe\">\n",
       "  <thead>\n",
       "    <tr style=\"text-align: right;\">\n",
       "      <th></th>\n",
       "      <th>selling_price</th>\n",
       "      <th>var_cost</th>\n",
       "      <th>profit</th>\n",
       "      <th>total_cost</th>\n",
       "    </tr>\n",
       "  </thead>\n",
       "  <tbody>\n",
       "    <tr>\n",
       "      <th>37</th>\n",
       "      <td>140</td>\n",
       "      <td>90</td>\n",
       "      <td>53800.0</td>\n",
       "      <td>110840.0</td>\n",
       "    </tr>\n",
       "    <tr>\n",
       "      <th>38</th>\n",
       "      <td>140</td>\n",
       "      <td>95</td>\n",
       "      <td>47920.0</td>\n",
       "      <td>116720.0</td>\n",
       "    </tr>\n",
       "    <tr>\n",
       "      <th>39</th>\n",
       "      <td>140</td>\n",
       "      <td>100</td>\n",
       "      <td>42040.0</td>\n",
       "      <td>122600.0</td>\n",
       "    </tr>\n",
       "    <tr>\n",
       "      <th>40</th>\n",
       "      <td>140</td>\n",
       "      <td>105</td>\n",
       "      <td>36160.0</td>\n",
       "      <td>128480.0</td>\n",
       "    </tr>\n",
       "    <tr>\n",
       "      <th>41</th>\n",
       "      <td>140</td>\n",
       "      <td>110</td>\n",
       "      <td>30280.0</td>\n",
       "      <td>134360.0</td>\n",
       "    </tr>\n",
       "  </tbody>\n",
       "</table>\n",
       "</div>"
      ],
      "text/plain": [
       "    selling_price  var_cost   profit  total_cost\n",
       "37            140        90  53800.0    110840.0\n",
       "38            140        95  47920.0    116720.0\n",
       "39            140       100  42040.0    122600.0\n",
       "40            140       105  36160.0    128480.0\n",
       "41            140       110  30280.0    134360.0"
      ]
     },
     "execution_count": 128,
     "metadata": {},
     "output_type": "execute_result"
    }
   ],
   "source": [
    "#View bottom of data frame\n",
    "m1_dt2_df.tail()"
   ]
  },
  {
   "cell_type": "code",
   "execution_count": 170,
   "id": "58663fe3-6629-4b78-b4c1-06108dd24108",
   "metadata": {},
   "outputs": [
    {
     "data": {
      "image/png": "[encoded data removed]",
      "text/plain": [
       "<Figure size 640x480 with 1 Axes>"
      ]
     },
     "metadata": {},
     "output_type": "display_data"
    }
   ],
   "source": [
    "# Initialize plot\n",
    "plt.style.use('default')\n",
    "fig, ax = plt.subplots()\n",
    "\n",
    "# Create series variables\n",
    "selling_price = []\n",
    "profit = []\n",
    "line_label = []\n",
    "\n",
    "for i in range(85, 111, 5):\n",
    "    selling_price.append(m1_dt2_df[m1_dt2_df.var_cost == i]['selling_price'])\n",
    "    profit.append(m1_dt2_df[m1_dt2_df.var_cost == i]['profit'])\n",
    "    line_label.append(f'Variable Cost = ${i}')\n",
    "    \n",
    "selling_price = np.array(selling_price)\n",
    "profit = np.array(profit)\n",
    "line_label = np.array(line_label)\n",
    "\n",
    "# Plot series\n",
    "for j in range(0, 6):\n",
    "    ax.plot(selling_price[j], profit[j], label=line_label[j])\n",
    "\n",
    "# Style plot elements\n",
    "ax.set(title='Profit and Selling Price for Different Variable Costs', xlabel='Selling Price', ylabel='Profit')\n",
    "plt.hlines(0, 80, 140, linestyles='dotted')\n",
    "ax.legend(loc='lower right')\n",
    "\n",
    "#Format axixes\n",
    "fmt = '${x:,.0f}'\n",
    "tick = mtick.StrMethodFormatter(fmt)\n",
    "ax.yaxis.set_major_formatter(tick)\n",
    "ax.xaxis.set_major_formatter(tick) \n",
    "\n",
    "# Show the plot\n",
    "plt.show()"
   ]
  },
  {
   "cell_type": "markdown",
   "id": "541b1305-b337-454b-b7ba-883a13d1d9be",
   "metadata": {},
   "source": [
    "The graph shows that high variables costs have lower profit at the same selling point. This means that the break-even selling price for a variable cost of 110 is the highest of all the options. This makes sense because the business needs high prices to cover the higher costs. The graph appears to show the lines converging closer to a selling price of 140. This may be due to the effect of fixed costs, but I need further investigation to fully understand it."
   ]
  },
  {
   "cell_type": "markdown",
   "id": "14d21ac8-f4c6-485b-a3a8-44cd76f8d3db",
   "metadata": {},
   "source": [
    "## E. Digging Deeper"
   ]
  },
  {
   "cell_type": "markdown",
   "id": "c5658f2a-fd93-483a-a05f-3825d5368201",
   "metadata": {},
   "source": [
    "### Goal Seek"
   ]
  },
  {
   "cell_type": "code",
   "execution_count": 177,
   "id": "0cc1e1c1-3612-4424-8572-67622a723b45",
   "metadata": {},
   "outputs": [
    {
     "name": "stdout",
     "output_type": "stream",
     "text": [
      "None\n"
     ]
    }
   ],
   "source": [
    "# Find the the selling price where profit = 0 between $80 and $250\n",
    "be_selling_price2 = model1.goal_seek('profit', 0, 'selling_price', 80, 250)\n",
    "\n",
    "print(be_selling_price2)"
   ]
  },
  {
   "cell_type": "markdown",
   "id": "dffe6e97-3887-4a3d-aef3-2bea1c945ce4",
   "metadata": {},
   "source": [
    "The model is unable to find a bread-even point in this range. I think this occurs due to the quadratic nature of the profit model. The goal_seek method bisects the data and finds break-even points in both halves. This confuses the model. It does not know which half to continue bisecting, so it quits and returns a value of `None`."
   ]
  },
  {
   "cell_type": "code",
   "execution_count": 179,
   "id": "0a609b48-ffd5-4c2e-82a7-022fa66ee54e",
   "metadata": {},
   "outputs": [
    {
     "name": "stdout",
     "output_type": "stream",
     "text": [
      "The basic model for profit returns another breaks even selling price at $228.00.\n"
     ]
    }
   ],
   "source": [
    "be_selling_price3 = model1.goal_seek('profit', 0, 'selling_price', 140, 250)\n",
    "\n",
    "# Print the restuls\n",
    "print(f'The basic model for profit returns another breaks even selling price at ${be_selling_price3:.2f}.')"
   ]
  },
  {
   "cell_type": "markdown",
   "id": "b916acd6-585a-46d9-9b76-f5f69654b22e",
   "metadata": {},
   "source": [
    "### 1-Way Data Table"
   ]
  },
  {
   "cell_type": "code",
   "execution_count": 181,
   "id": "e3a0102e-a9e8-478a-8371-ab7c4a31c1a5",
   "metadata": {},
   "outputs": [
    {
     "data": {
      "text/html": [
       "<div>\n",
       "<style scoped>\n",
       "    .dataframe tbody tr th:only-of-type {\n",
       "        vertical-align: middle;\n",
       "    }\n",
       "\n",
       "    .dataframe tbody tr th {\n",
       "        vertical-align: top;\n",
       "    }\n",
       "\n",
       "    .dataframe thead th {\n",
       "        text-align: right;\n",
       "    }\n",
       "</style>\n",
       "<table border=\"1\" class=\"dataframe\">\n",
       "  <thead>\n",
       "    <tr style=\"text-align: right;\">\n",
       "      <th></th>\n",
       "      <th>selling_price</th>\n",
       "      <th>demand</th>\n",
       "      <th>profit</th>\n",
       "    </tr>\n",
       "  </thead>\n",
       "  <tbody>\n",
       "    <tr>\n",
       "      <th>0</th>\n",
       "      <td>80</td>\n",
       "      <td>2484.0</td>\n",
       "      <td>-54680.0</td>\n",
       "    </tr>\n",
       "    <tr>\n",
       "      <th>1</th>\n",
       "      <td>90</td>\n",
       "      <td>2236.0</td>\n",
       "      <td>-27360.0</td>\n",
       "    </tr>\n",
       "    <tr>\n",
       "      <th>2</th>\n",
       "      <td>100</td>\n",
       "      <td>2000.0</td>\n",
       "      <td>-5000.0</td>\n",
       "    </tr>\n",
       "    <tr>\n",
       "      <th>3</th>\n",
       "      <td>110</td>\n",
       "      <td>1776.0</td>\n",
       "      <td>12760.0</td>\n",
       "    </tr>\n",
       "    <tr>\n",
       "      <th>4</th>\n",
       "      <td>120</td>\n",
       "      <td>1564.0</td>\n",
       "      <td>26280.0</td>\n",
       "    </tr>\n",
       "    <tr>\n",
       "      <th>5</th>\n",
       "      <td>130</td>\n",
       "      <td>1364.0</td>\n",
       "      <td>35920.0</td>\n",
       "    </tr>\n",
       "    <tr>\n",
       "      <th>6</th>\n",
       "      <td>140</td>\n",
       "      <td>1176.0</td>\n",
       "      <td>42040.0</td>\n",
       "    </tr>\n",
       "    <tr>\n",
       "      <th>7</th>\n",
       "      <td>150</td>\n",
       "      <td>1000.0</td>\n",
       "      <td>45000.0</td>\n",
       "    </tr>\n",
       "    <tr>\n",
       "      <th>8</th>\n",
       "      <td>160</td>\n",
       "      <td>836.0</td>\n",
       "      <td>45160.0</td>\n",
       "    </tr>\n",
       "    <tr>\n",
       "      <th>9</th>\n",
       "      <td>170</td>\n",
       "      <td>684.0</td>\n",
       "      <td>42880.0</td>\n",
       "    </tr>\n",
       "    <tr>\n",
       "      <th>10</th>\n",
       "      <td>180</td>\n",
       "      <td>544.0</td>\n",
       "      <td>38520.0</td>\n",
       "    </tr>\n",
       "    <tr>\n",
       "      <th>11</th>\n",
       "      <td>190</td>\n",
       "      <td>416.0</td>\n",
       "      <td>32440.0</td>\n",
       "    </tr>\n",
       "    <tr>\n",
       "      <th>12</th>\n",
       "      <td>200</td>\n",
       "      <td>300.0</td>\n",
       "      <td>25000.0</td>\n",
       "    </tr>\n",
       "    <tr>\n",
       "      <th>13</th>\n",
       "      <td>210</td>\n",
       "      <td>196.0</td>\n",
       "      <td>16560.0</td>\n",
       "    </tr>\n",
       "    <tr>\n",
       "      <th>14</th>\n",
       "      <td>220</td>\n",
       "      <td>104.0</td>\n",
       "      <td>7480.0</td>\n",
       "    </tr>\n",
       "    <tr>\n",
       "      <th>15</th>\n",
       "      <td>230</td>\n",
       "      <td>24.0</td>\n",
       "      <td>-1880.0</td>\n",
       "    </tr>\n",
       "    <tr>\n",
       "      <th>16</th>\n",
       "      <td>240</td>\n",
       "      <td>-44.0</td>\n",
       "      <td>-11160.0</td>\n",
       "    </tr>\n",
       "    <tr>\n",
       "      <th>17</th>\n",
       "      <td>250</td>\n",
       "      <td>-100.0</td>\n",
       "      <td>-20000.0</td>\n",
       "    </tr>\n",
       "  </tbody>\n",
       "</table>\n",
       "</div>"
      ],
      "text/plain": [
       "    selling_price  demand   profit\n",
       "0              80  2484.0 -54680.0\n",
       "1              90  2236.0 -27360.0\n",
       "2             100  2000.0  -5000.0\n",
       "3             110  1776.0  12760.0\n",
       "4             120  1564.0  26280.0\n",
       "5             130  1364.0  35920.0\n",
       "6             140  1176.0  42040.0\n",
       "7             150  1000.0  45000.0\n",
       "8             160   836.0  45160.0\n",
       "9             170   684.0  42880.0\n",
       "10            180   544.0  38520.0\n",
       "11            190   416.0  32440.0\n",
       "12            200   300.0  25000.0\n",
       "13            210   196.0  16560.0\n",
       "14            220   104.0   7480.0\n",
       "15            230    24.0  -1880.0\n",
       "16            240   -44.0 -11160.0\n",
       "17            250  -100.0 -20000.0"
      ]
     },
     "execution_count": 181,
     "metadata": {},
     "output_type": "execute_result"
    }
   ],
   "source": [
    "#Create dictionary with array of inputs\n",
    "dt_param_ranges1 = {'selling_price': np.arange(80, 251, 10)}\n",
    "\n",
    "#Create list of outputs\n",
    "outputs1 = ['demand', 'profit']\n",
    "\n",
    "#Run the data table method and save the pandas dataframe\n",
    "m1_dt1_df = model1.data_table(dt_param_ranges1, outputs1)\n",
    "m1_dt1_df"
   ]
  },
  {
   "cell_type": "code",
   "execution_count": 183,
   "id": "fc9de9f5-b95a-44aa-8c31-816f418172e3",
   "metadata": {},
   "outputs": [
    {
     "data": {
      "image/png": "[encoded data removed]",
      "text/plain": [
       "<Figure size 640x480 with 1 Axes>"
      ]
     },
     "metadata": {},
     "output_type": "display_data"
    }
   ],
   "source": [
    "# Initialize plot\n",
    "plt.style.use('default')\n",
    "fig, ax = plt.subplots()\n",
    "\n",
    "# Create series variables\n",
    "selling_price = np.array(m1_dt1_df['selling_price'])\n",
    "profit = np.array(m1_dt1_df['profit'])\n",
    "\n",
    "# Plot series\n",
    "ax.plot(selling_price, profit, 'r-', label='Profit')\n",
    "\n",
    "# Style plot elements\n",
    "ax.set(title='Profit and Selling Price for the Extended Basic Model', xlabel='Selling Price', ylabel='Profit')\n",
    "plt.hlines(0, 80, 250, linestyles='dotted')\n",
    "\n",
    "#Format axixes\n",
    "fmt = '${x:,.0f}'\n",
    "tick = mtick.StrMethodFormatter(fmt)\n",
    "ax.yaxis.set_major_formatter(tick)\n",
    "ax.xaxis.set_major_formatter(tick) \n",
    "\n",
    "# Show the plot\n",
    "plt.show()"
   ]
  },
  {
   "cell_type": "markdown",
   "id": "073a9274-001e-47c0-9e7b-25d9914138bb",
   "metadata": {},
   "source": [
    "This graph supports my hypothesis above and shows why the goal seek failed. There are two break-even points. The code for `goal_seek()` does not clearly tell it which one to target. Therefore, the method was confused and returned a value of `None`."
   ]
  },
  {
   "cell_type": "markdown",
   "id": "0e027d55-57f7-44b9-9f05-5680ae62211a",
   "metadata": {},
   "source": [
    "## F. Simulation"
   ]
  },
  {
   "cell_type": "code",
   "execution_count": 212,
   "id": "adc63c8f-21f6-43ed-a63c-b89fc98e46b9",
   "metadata": {},
   "outputs": [
    {
     "data": {
      "text/html": [
       "<div>\n",
       "<style scoped>\n",
       "    .dataframe tbody tr th:only-of-type {\n",
       "        vertical-align: middle;\n",
       "    }\n",
       "\n",
       "    .dataframe tbody tr th {\n",
       "        vertical-align: top;\n",
       "    }\n",
       "\n",
       "    .dataframe thead th {\n",
       "        text-align: right;\n",
       "    }\n",
       "</style>\n",
       "<table border=\"1\" class=\"dataframe\">\n",
       "  <thead>\n",
       "    <tr style=\"text-align: right;\">\n",
       "      <th></th>\n",
       "      <th>profit</th>\n",
       "      <th>scenario_num</th>\n",
       "    </tr>\n",
       "  </thead>\n",
       "  <tbody>\n",
       "    <tr>\n",
       "      <th>0</th>\n",
       "      <td>17705.704810</td>\n",
       "      <td>0</td>\n",
       "    </tr>\n",
       "    <tr>\n",
       "      <th>1</th>\n",
       "      <td>44326.101396</td>\n",
       "      <td>0</td>\n",
       "    </tr>\n",
       "    <tr>\n",
       "      <th>2</th>\n",
       "      <td>51011.679838</td>\n",
       "      <td>0</td>\n",
       "    </tr>\n",
       "    <tr>\n",
       "      <th>3</th>\n",
       "      <td>-8481.978501</td>\n",
       "      <td>0</td>\n",
       "    </tr>\n",
       "    <tr>\n",
       "      <th>4</th>\n",
       "      <td>27485.849683</td>\n",
       "      <td>0</td>\n",
       "    </tr>\n",
       "    <tr>\n",
       "      <th>...</th>\n",
       "      <td>...</td>\n",
       "      <td>...</td>\n",
       "    </tr>\n",
       "    <tr>\n",
       "      <th>9995</th>\n",
       "      <td>27848.226382</td>\n",
       "      <td>0</td>\n",
       "    </tr>\n",
       "    <tr>\n",
       "      <th>9996</th>\n",
       "      <td>42527.325290</td>\n",
       "      <td>0</td>\n",
       "    </tr>\n",
       "    <tr>\n",
       "      <th>9997</th>\n",
       "      <td>12728.292651</td>\n",
       "      <td>0</td>\n",
       "    </tr>\n",
       "    <tr>\n",
       "      <th>9998</th>\n",
       "      <td>22294.143950</td>\n",
       "      <td>0</td>\n",
       "    </tr>\n",
       "    <tr>\n",
       "      <th>9999</th>\n",
       "      <td>19167.701660</td>\n",
       "      <td>0</td>\n",
       "    </tr>\n",
       "  </tbody>\n",
       "</table>\n",
       "<p>10000 rows × 2 columns</p>\n",
       "</div>"
      ],
      "text/plain": [
       "            profit  scenario_num\n",
       "0     17705.704810             0\n",
       "1     44326.101396             0\n",
       "2     51011.679838             0\n",
       "3     -8481.978501             0\n",
       "4     27485.849683             0\n",
       "...            ...           ...\n",
       "9995  27848.226382             0\n",
       "9996  42527.325290             0\n",
       "9997  12728.292651             0\n",
       "9998  22294.143950             0\n",
       "9999  19167.701660             0\n",
       "\n",
       "[10000 rows x 2 columns]"
      ]
     },
     "execution_count": 212,
     "metadata": {},
     "output_type": "execute_result"
    }
   ],
   "source": [
    "# Set seed and create random distribution of variable cost\n",
    "num_reps = 10000\n",
    "np.random.seed(8826)\n",
    "random_inputs = {'var_cost': np.random.uniform(80, 120, num_reps)}\n",
    "\n",
    "#Specify profit as output\n",
    "sim_outputs = ['profit']\n",
    "\n",
    "#Run the simulation\n",
    "model1_simresults = model1.simulate(random_inputs, sim_outputs)\n",
    "\n",
    "#Run the outputs into at dataframe and view results\n",
    "model1_simresults_df = get_sim_results_df(model1_simresults)\n",
    "model1_simresults_df"
   ]
  },
  {
   "cell_type": "markdown",
   "id": "05f0ad3d-3938-4e94-8272-81dd9cf90bcd",
   "metadata": {},
   "source": [
    "### Histogram of Profit"
   ]
  },
  {
   "cell_type": "code",
   "execution_count": 214,
   "id": "bca2c224-22dc-4631-95da-b6be88a75153",
   "metadata": {},
   "outputs": [
    {
     "data": {
      "image/png": "[encoded data removed]",
      "text/plain": [
       "<Figure size 640x480 with 1 Axes>"
      ]
     },
     "metadata": {},
     "output_type": "display_data"
    }
   ],
   "source": [
    "# Initialize plot\n",
    "plt.style.use('default')\n",
    "fig, ax = plt.subplots()\n",
    "\n",
    "# Create series variables\n",
    "profit = np.array(model1_simresults_df['profit'])\n",
    "\n",
    "# Plot series\n",
    "ax.hist(profit)\n",
    "\n",
    "# Style plot elements\n",
    "ax.set(title='Histogram of Profit for Uniform Variable Cost \\$80 to \\$120', xlabel='Profit', ylabel='Number of Observations')\n",
    "\n",
    "#Format x-axis\n",
    "fmt = '${x:,.0f}'\n",
    "tick = mtick.StrMethodFormatter(fmt)\n",
    "ax.xaxis.set_major_formatter(tick)\n",
    "\n",
    "# Show the plot\n",
    "plt.show()"
   ]
  },
  {
   "cell_type": "markdown",
   "id": "7e700b2a-c464-4d44-915a-fd73dcbefd00",
   "metadata": {},
   "source": [
    "The graph shows that a uniform distribution of variable costs produces an approximately uniform distribution of profit. The histogram looks more uniform as the number of random values increase."
   ]
  },
  {
   "cell_type": "markdown",
   "id": "dd30cd8d-0a74-412d-a88d-2fdecf078fc1",
   "metadata": {},
   "source": [
    "### Probability"
   ]
  },
  {
   "cell_type": "code",
   "execution_count": 220,
   "id": "18c9edb3-4d32-4568-bf10-852b6ff715e3",
   "metadata": {},
   "outputs": [
    {
     "name": "stdout",
     "output_type": "stream",
     "text": [
      "There is a 20.73% probability that profit is negative.\n"
     ]
    }
   ],
   "source": [
    "prob_neg = stats.percentileofscore(model1_simresults_df['profit'], 0)/100\n",
    "\n",
    "print(f'There is a {prob_neg:.2%} probability that profit is negative.')"
   ]
  },
  {
   "cell_type": "markdown",
   "id": "37b3d69f-9a2d-40fa-acd8-fc9dfbe35d14",
   "metadata": {},
   "source": [
    "The probability of a negative profit approximately matches the histogram, so I have confidence in that number. Assuming all the other base inputs are true, this business seems like a good risk to consider. There is almost an 80% chance that this business with make a profit. However, the final decision will depend on the individual’s risk tolerance."
   ]
  }
 ],
 "metadata": {
  "kernelspec": {
   "display_name": "Python [conda env:aap]",
   "language": "python",
   "name": "conda-env-aap-py"
  },
  "language_info": {
   "codemirror_mode": {
    "name": "ipython",
    "version": 3
   },
   "file_extension": ".py",
   "mimetype": "text/x-python",
   "name": "python",
   "nbconvert_exporter": "python",
   "pygments_lexer": "ipython3",
   "version": "3.7.16"
  }
 },
 "nbformat": 4,
 "nbformat_minor": 5
}
